{
 "cells": [
  {
   "cell_type": "code",
   "execution_count": 1,
   "metadata": {},
   "outputs": [
    {
     "name": "stderr",
     "output_type": "stream",
     "text": [
      "Using TensorFlow backend.\n",
      "c:\\users\\demdr\\python37\\lib\\site-packages\\tensorflow\\python\\framework\\dtypes.py:526: FutureWarning: Passing (type, 1) or '1type' as a synonym of type is deprecated; in a future version of numpy, it will be understood as (type, (1,)) / '(1,)type'.\n",
      "  _np_qint8 = np.dtype([(\"qint8\", np.int8, 1)])\n",
      "c:\\users\\demdr\\python37\\lib\\site-packages\\tensorflow\\python\\framework\\dtypes.py:527: FutureWarning: Passing (type, 1) or '1type' as a synonym of type is deprecated; in a future version of numpy, it will be understood as (type, (1,)) / '(1,)type'.\n",
      "  _np_quint8 = np.dtype([(\"quint8\", np.uint8, 1)])\n",
      "c:\\users\\demdr\\python37\\lib\\site-packages\\tensorflow\\python\\framework\\dtypes.py:528: FutureWarning: Passing (type, 1) or '1type' as a synonym of type is deprecated; in a future version of numpy, it will be understood as (type, (1,)) / '(1,)type'.\n",
      "  _np_qint16 = np.dtype([(\"qint16\", np.int16, 1)])\n",
      "c:\\users\\demdr\\python37\\lib\\site-packages\\tensorflow\\python\\framework\\dtypes.py:529: FutureWarning: Passing (type, 1) or '1type' as a synonym of type is deprecated; in a future version of numpy, it will be understood as (type, (1,)) / '(1,)type'.\n",
      "  _np_quint16 = np.dtype([(\"quint16\", np.uint16, 1)])\n",
      "c:\\users\\demdr\\python37\\lib\\site-packages\\tensorflow\\python\\framework\\dtypes.py:530: FutureWarning: Passing (type, 1) or '1type' as a synonym of type is deprecated; in a future version of numpy, it will be understood as (type, (1,)) / '(1,)type'.\n",
      "  _np_qint32 = np.dtype([(\"qint32\", np.int32, 1)])\n",
      "c:\\users\\demdr\\python37\\lib\\site-packages\\tensorflow\\python\\framework\\dtypes.py:535: FutureWarning: Passing (type, 1) or '1type' as a synonym of type is deprecated; in a future version of numpy, it will be understood as (type, (1,)) / '(1,)type'.\n",
      "  np_resource = np.dtype([(\"resource\", np.ubyte, 1)])\n"
     ]
    }
   ],
   "source": [
    "import pandas as pd\n",
    "import numpy as np\n",
    "\n",
    "import matplotlib.pyplot as plt\n",
    "import seaborn as sns\n",
    "\n",
    "import sklearn\n",
    "import keras\n",
    "from keras.layers import Reshape\n",
    "\n",
    "from sklearn.metrics import mean_squared_error\n",
    "from sklearn.metrics import mean_absolute_error\n",
    "from xgboost import XGBRegressor"
   ]
  },
  {
   "cell_type": "code",
   "execution_count": 2,
   "metadata": {
    "scrolled": true
   },
   "outputs": [],
   "source": [
    "# Put here the path of the file that has the data that we will use to create predictions \n",
    "\n",
    "# First, we have to apply some of the functions of component 1 (all the steps) to extract some of the features \n",
    "# for activity analysis (based on analysis of accelerometer data), speed from GPS data, and POI density + traffic \n",
    "# based on the spatial database, etc.\n",
    "# See the required features in the functions 'create_segments_and_labels_LAG' and 'create_segments_and_labels_for_final_prediction' here\n",
    "# We can create these features using functions of component 1\n",
    "\n",
    "# Here I am using instead a file which contains data from many participants (with features already extracted \n",
    "# after the application of methods from Component 1)\n",
    "# This does not change anything; we can use either a file only from one participant, \n",
    "# or a file with combined data from multiple participants\n",
    "\n",
    "input_data = pd.read_csv(r'C:\\Users\\demdr\\Desktop\\Testing the thesis functions\\Project data\\Analysed data\\combined data.csv')\n",
    "input_data.index = input_data['Datetime']\n",
    "# Change this to another time zone if needed \n",
    "input_data.index = pd.to_datetime(input_data.index, utc=True).tz_convert('Australia/Sydney')\n",
    "input_data['Datetime_from_index']= input_data.index.copy()\n",
    "input_data = input_data.fillna(0)"
   ]
  },
  {
   "cell_type": "markdown",
   "metadata": {},
   "source": [
    "#### Data filtering and transformations\n",
    "\n",
    "Remove sessions where there is high speed (not corresponding to walking) for a long time, indicating that the user was moving with public transport/car:"
   ]
  },
  {
   "cell_type": "code",
   "execution_count": 3,
   "metadata": {},
   "outputs": [],
   "source": [
    "df_without_high_speed = pd.DataFrame()\n",
    "\n",
    "for user in input_data['UserID'].unique():\n",
    "    # Include this in case we want to create predictions for multiple users at the same time.\n",
    "    # Here I am using an example where I load initially data from many users\n",
    "    # If only one user is there, there is no issue\n",
    "    this_user_df = input_data[input_data['UserID']==user]\n",
    "    for ses in this_user_df['Session'].unique():\n",
    "        this_session = this_user_df[this_user_df['Session']==ses]\n",
    "        # if less than 20% of the session involves high speed, then proceed \n",
    "        # otherwise do not include this session\n",
    "        if (len(this_session[this_session['Speed']>12])/len(this_session))<0.2:\n",
    "            df_without_high_speed = df_without_high_speed.append(this_session)"
   ]
  },
  {
   "cell_type": "markdown",
   "metadata": {},
   "source": [
    "#### Create a copy of the df so that we can reindex it \n",
    "because if we have combined data from more than 1 users, they may have data collected at the same time, and this creates issues if the index is the datetime object.\n",
    "\n",
    "So, we create a temporary index (integers incrementally from 0 to x=length of the df)"
   ]
  },
  {
   "cell_type": "code",
   "execution_count": 5,
   "metadata": {},
   "outputs": [],
   "source": [
    "df_without_high_speed_copy = df_without_high_speed.copy()\n",
    "df_without_high_speed_copy['Index']=np.arange(len(df_without_high_speed_copy))\n",
    "df_without_high_speed_copy['Datetime_helper']=df_without_high_speed_copy.index.copy()\n",
    "df_without_high_speed_copy.index = df_without_high_speed_copy['Index']"
   ]
  },
  {
   "cell_type": "markdown",
   "metadata": {},
   "source": [
    "#### Select a user ID to create a prediction for this user\n",
    "This is a unique ID which should be assigned for this user and used for all the algorithms"
   ]
  },
  {
   "cell_type": "code",
   "execution_count": 6,
   "metadata": {},
   "outputs": [],
   "source": [
    "this_id = 66192854\n",
    "df_for_prediction = pd.DataFrame()\n",
    "df_for_prediction = df_for_prediction.append(df_without_high_speed_copy[df_without_high_speed_copy['UserID']==this_id])\n",
    "df_for_prediction.index = pd.to_datetime(df_for_prediction['Datetime_helper'])"
   ]
  },
  {
   "cell_type": "markdown",
   "metadata": {},
   "source": [
    "### Transform the features\n",
    "- Initial df: A dataset which contains all the available data that we have, combined \n",
    "\n",
    "- Target df: The dataset for which we want to create predictions. It can be only one session of one participant, or many sessions of the same participant, or multiple sessions of multiple participants combined \n",
    "\n",
    "The Initial df gives some info regarding the reference values, because maybe the target df contains too few data with a small range (i.e. with 22-25 C temperature, while the model is trained for a larger range) and the min-max transformations may not work properly.\n",
    "\n",
    "This is why this function also has some pre-set thresholds derived from the initial training data. \n",
    "\n",
    "If we want to predict values for a large dataset, and the min and max values of the dataset are similar to those derived from the initial dataset used to construct the XGBoost model, we can use normal min-max for the columns instead of the pre-set thresholds."
   ]
  },
  {
   "cell_type": "code",
   "execution_count": 7,
   "metadata": {},
   "outputs": [],
   "source": [
    "def apply_transformations(initial_df, target_df):\n",
    "    # ----Log transforms \n",
    "    this_df = target_df.copy()\n",
    "    to_log = ['Density','max_Density','std_Density']\n",
    "    for col in to_log:\n",
    "        this_df[col] = np.log(this_df[col]+1)\n",
    "        \n",
    "        \n",
    "    # ----Remove outliers--------------\n",
    "    target_columns = ['Speed_mean_30sec','Total seconds passed']\n",
    "    thresholds = {'Speed_mean_30sec':10.15, 'Total seconds passed':7505}\n",
    "    for col in target_columns:\n",
    "        print('----'+ col + '----')\n",
    "        three_quarters = initial_df[col].describe().loc['75%']\n",
    "        std = initial_df[col].describe().loc['std']\n",
    "        limit_from_input_data = three_quarters + std\n",
    "        limit_from_data_used_in_training = thresholds[col]\n",
    "        # here we use a predetermined threshold for min-max transformation of the 'total seconds passed' column\n",
    "        this_limit = limit_from_data_used_in_training\n",
    "        if col == 'Total seconds passed':\n",
    "            print(col, ': threshold for outlier correction derived from input data:', limit_from_input_data/60, 'minutes')\n",
    "            print('Threshold for training data:', limit_from_data_used_in_training/60, 'minutes')\n",
    "            # Put a warning if the data to be corrected have a larger range than the data used \n",
    "            #for training the model -- this is a concern particularly for the 'Total seconds passed' column.\n",
    "            # The model was trained having activities of 125-126 minutes as the highest value, \n",
    "            # and did not have enough data for predicting the signal for activities with a much higher duration than this\n",
    "            if limit_from_input_data>limit_from_data_used_in_training:\n",
    "                print('Warning: The input data have larger range than the data that was used for training the model-this may lead to inaccuracies and the model should be trained again to accommodate the higher range')\n",
    "\n",
    "        else:\n",
    "            print(col, ': threshold for outlier correction derived from input data:', limit_from_input_data, 'km/h')\n",
    "            print(col, 'Threshold for training data:', limit_from_data_used_in_training, 'km/h')\n",
    "        this_df.loc[this_df[this_df[col]>this_limit].index, col]=this_limit\n",
    "        \n",
    "    \n",
    "    # ----Transformations for time --------------\n",
    "    this_df['Total seconds passed'] = np.log(this_df['Total seconds passed']+1)\n",
    "    this_df['Total seconds passed'] = np.power(this_df['Total seconds passed'], 4)\n",
    "    \n",
    "    time_max = this_df['Total seconds passed'].max()\n",
    "    print(time_max)\n",
    "    this_df['Total seconds passed'] = this_df['Total seconds passed'] / time_max\n",
    "   \n",
    "    # \n",
    "    # ----Other Min-max transformations --------------\n",
    "    cols_for_minmax = ['activity','Change of activity state', 'Steady state',\n",
    "                  'Density','max_Density','Traffic', 'Traffic signal','Speed_mean_30sec','std_Density',\n",
    "                   'Significant Changes:Activity','Significant Changes:Traffic', 'Significant Changes:Density']\n",
    "    # These are reference values for max values based on the initial data used for training+testing the model\n",
    "    minmax_thresholds = {'activity':3,'Change of activity state':1, 'Steady state':1,\n",
    "                  'Density':3.892,'max_Density':3.892,'Traffic':4, 'Traffic signal':1,'Speed_mean_30sec':10.15,'std_Density':2.84,\n",
    "                   'Significant Changes:Activity':3,'Significant Changes:Traffic':3, 'Significant Changes:Density':3}\n",
    "    for col in cols_for_minmax:\n",
    "        # This is supposed to be a min-max transformation (the original line was the following):\n",
    "        #this_max = this_df[col].max()\n",
    "        # but we use the max values from the data used for training, because the input data might have lower values \n",
    "        # (for instance, it might not have any traffic signal; then the max value for this column would be 0, and \n",
    "        # the min-max transform would not have the intended result)\n",
    "        # From these columns, the values related to 'Density' may be a bit different in different contexts. If \n",
    "        # they are much higher than those reported here, then this model will not be appropriate and a new model should be trained\n",
    "        max_from_input_data = this_df[col].max()\n",
    "        max_from_original_training_data = minmax_thresholds[col]\n",
    "        print('max value from input data:', col, max_from_input_data)\n",
    "        print('max value from training data:', col,  max_from_original_training_data)\n",
    "        if max_from_input_data> max_from_original_training_data:\n",
    "            print('WARNING: Higher values are included in the input data than those included in the original training data')\n",
    "            print('Predictions may be less accurate-a new model should be constructed')\n",
    "            # if that's the case, consider using the following line instead of the uncommented one:\n",
    "        #this_df[col]=this_df[col]/max_from_original_training_data\n",
    "        this_df[col]=this_df[col]/max_from_original_training_data\n",
    "        \n",
    "        \n",
    "        \n",
    "    # ----Min-max transformation of temperature--------------\n",
    "    # The min and max temperature values for the training data were 10.5 and 32 °C--\n",
    "    # The original algorithm used the 'temp_max' and 'temp_min', the actual min-max values of the input data, \n",
    "    # instead of the 'reference_temp_max' and 'reference_temp_min'\n",
    "    # but if this model is used in production, and the input data has a very different range, \n",
    "    #the prediction accuracy may be worse because the values will exceed the [0,1] range\n",
    "    temp_max = initial_df['Temperature'].max()\n",
    "    temp_min = initial_df['Temperature'].min()\n",
    "    reference_temp_max = 32\n",
    "    reference_temp_min = 10.5\n",
    "    print('Max and min temperature for input data:', temp_max, temp_min)\n",
    "\n",
    "    this_df['Temperature_minmax'] = (this_df['Temperature']-reference_temp_min)/(reference_temp_max-reference_temp_min)\n",
    "\n",
    "    this_df['Datetime_from_index']= this_df.index.copy()\n",
    "    \n",
    "    # ----Create an empty column to store these values --------------\n",
    "    \n",
    "    this_df['Past_Sum of amplitudes_log'] = 0\n",
    "    \n",
    "    # If we have past EDA data and we want to use it for testing the accuracy of the prediction: \n",
    "    sum_of_EDA_max = np.log(initial_df['Sum of EDA amplitudes']+1).max()\n",
    "    this_df['Sum of EDA amplitudes_log'] = np.log(this_df['Sum of EDA amplitudes'].copy()+1)/sum_of_EDA_max\n",
    "    # We will predict this anyway; we only have it here for future comparison of actual with predicted data\n",
    "    \n",
    "    return(this_df)\n"
   ]
  },
  {
   "cell_type": "markdown",
   "metadata": {},
   "source": [
    "#### Apply the function for transforming the features\n",
    "If we only have one dataset and we want to create a prediction for that, put the same dataset twice in the parenthesis.\n",
    "\n",
    "Otherwise, if we have a larger dataset that we want to use for min-max transformation, the larger dataset can be put as the first dataframe in the parenthesis, to give information for the min-max."
   ]
  },
  {
   "cell_type": "code",
   "execution_count": 8,
   "metadata": {
    "scrolled": true
   },
   "outputs": [
    {
     "name": "stdout",
     "output_type": "stream",
     "text": [
      "----Speed_mean_30sec----\n",
      "Speed_mean_30sec : threshold for outlier correction derived from input data: 4.511617687013182 km/h\n",
      "Speed_mean_30sec Threshold for training data: 10.15 km/h\n",
      "----Total seconds passed----\n",
      "Total seconds passed : threshold for outlier correction derived from input data: 301.2366049781106 minutes\n",
      "Threshold for training data: 125.08333333333333 minutes\n",
      "Warning: The input data have larger range than the data that was used for training the model-this may lead to inaccuracies and the model should be trained again to accommodate the higher range\n",
      "6340.634678348907\n",
      "max value from input data: activity 3.0\n",
      "max value from training data: activity 3\n",
      "max value from input data: Change of activity state 1.0\n",
      "max value from training data: Change of activity state 1\n",
      "max value from input data: Steady state 1.0\n",
      "max value from training data: Steady state 1\n",
      "max value from input data: Density 3.6109179126442243\n",
      "max value from training data: Density 3.892\n",
      "max value from input data: max_Density 3.6109179126442243\n",
      "max value from training data: max_Density 3.892\n",
      "max value from input data: Traffic 4.0\n",
      "max value from training data: Traffic 4\n",
      "max value from input data: Traffic signal 1.0\n",
      "max value from training data: Traffic signal 1\n",
      "max value from input data: Speed_mean_30sec 10.15\n",
      "max value from training data: Speed_mean_30sec 10.15\n",
      "max value from input data: std_Density 2.183967638836753\n",
      "max value from training data: std_Density 2.84\n",
      "max value from input data: Significant Changes:Activity 3.0\n",
      "max value from training data: Significant Changes:Activity 3\n",
      "max value from input data: Significant Changes:Traffic 3.0\n",
      "max value from training data: Significant Changes:Traffic 3\n",
      "max value from input data: Significant Changes:Density 3.0\n",
      "max value from training data: Significant Changes:Density 3\n",
      "Max and min temperature for input data: 30 18\n"
     ]
    }
   ],
   "source": [
    "df_test = apply_transformations(df_for_prediction.copy(), df_for_prediction)"
   ]
  },
  {
   "cell_type": "code",
   "execution_count": 9,
   "metadata": {
    "scrolled": true
   },
   "outputs": [],
   "source": [
    "# Fill missing values\n",
    "for i in df_test.isnull().any().index:\n",
    "    if df_test.isnull().any().loc[i]==True:\n",
    "        df_test = df_test.fillna(0)"
   ]
  },
  {
   "cell_type": "markdown",
   "metadata": {},
   "source": [
    "### Function for predicting the lag EDA data\n",
    "- We use this function to create a prediction for a 240s window \n",
    "- Then we will use this feature as input (as a lag feature derived from the previous time window) for the final prediction \n",
    "\n",
    "\n",
    "- Alternatively, we could retrain the model so that it does not use the predicted lag feature as input. In this case, we could skip this step and jump directly to the function 'create_segments_and_labels_for_final_prediction'. We would have to modify slightly that function in the following way: remove the feature 'Past_Sum of amplitudes_log' from that function, and declare that we have N_FEATURES=19, and not 20. The model would have to be retrained using the 19 features and not the 20 that it uses now."
   ]
  },
  {
   "cell_type": "code",
   "execution_count": 10,
   "metadata": {},
   "outputs": [],
   "source": [
    "# 240 corresponds to a time window of 240 seconds\n",
    "TIME_PERIODS = 240\n",
    "STEP_DISTANCE= 240\n",
    "\n",
    "def create_segments_and_labels_LAG(df, time_steps, step):\n",
    "\n",
    "    N_FEATURES = 19\n",
    "    segments = []\n",
    "    labels = []\n",
    "    for i in range(0, len(df) - time_steps, step):\n",
    "        mean_de = df['Density'].values[i: i+ time_steps]\n",
    "        std_de = df['std_Density'].values[i: i+ time_steps]\n",
    "        activity_state_change = df['Change of activity state'].values[i: i + time_steps]\n",
    "        steady = df['Steady state'].values[i: i + time_steps]\n",
    "        steady_diff = np.insert(np.diff(df['Steady state'].values[i: i+ time_steps]), 0, 0)\n",
    "\n",
    "        \n",
    "        \n",
    "        current_ac = df['activity'].values[i: i + time_steps]\n",
    "        act_diff = np.insert(np.diff(df['activity'].values[i: i + time_steps]), 0, 0)\n",
    "        activity_change = df['Significant Changes:Activity'].values[i: i + time_steps]\n",
    "        traffic_change = df['Significant Changes:Traffic'].values[i: i+ time_steps]\n",
    "        density_change = df['Significant Changes:Density'].values[i: i+ time_steps]\n",
    "        traffic = df['Traffic'].values[i: i+ time_steps]\n",
    "        \n",
    "        time = np.power(df['Total seconds passed'].values[i: i+ time_steps], 1)\n",
    "        speed = df['Speed_mean_30sec'].values[i: i+ time_steps]\n",
    "        tr_light = df['Traffic signal'].values[i: i+ time_steps]\n",
    "\n",
    "        temperat = df['Temperature_minmax'].values[i: i+ time_steps]\n",
    "        \n",
    "        \n",
    "        # find time passed since the beginning of the activity\n",
    "        ses = df['Session'].values[i]\n",
    "        this_session = df[df['Session']==ses]\n",
    "        this_index = this_session.loc[df.index[i], 'Datetime_from_index']\n",
    "        index_0 = this_session.loc[this_session.index[0], 'Datetime_from_index']\n",
    "        time_passed = (this_index-index_0).total_seconds()\n",
    "\n",
    "        # Create empty arrays that will be then filled with features for the previous time window\n",
    "        # previous activity\n",
    "        prev_ac = np.full(current_ac.shape, 0)\n",
    "        # previous density\n",
    "        prev_den = np.full(current_ac.shape, 0)\n",
    "        # previous traffic light\n",
    "        prev_signal = np.full(current_ac.shape, 0)\n",
    "        # previous speed\n",
    "        prev_speed = np.full(current_ac.shape, 0)\n",
    "        \n",
    "        # if we are not in the first time window (the first 240 seconds) of this activity session, proceed \n",
    "        # and compute the features for the previous time window \n",
    "        if i>TIME_PERIODS:\n",
    "            if time_passed>TIME_PERIODS:\n",
    "                prev_ac = df['activity'].values[i-TIME_PERIODS: i]\n",
    "                prev_speed = df['Speed_mean_30sec'].values[i-TIME_PERIODS: i]\n",
    "                prev_den = df['Density'].values[i-TIME_PERIODS: i]\n",
    "                prev_signal = df['Traffic signal'].values[i-TIME_PERIODS: i]\n",
    "        # else just keep the array filled with zeros\n",
    "        else:\n",
    "            prev_ac = np.full(current_ac.shape, 0)\n",
    "            prev_den = np.full(current_ac.shape, 0)\n",
    "            prev_signal = np.full(current_ac.shape, 0)\n",
    "            \n",
    "            \n",
    "               \n",
    "        \n",
    "\n",
    "        feature_list = [current_ac,activity_change,\n",
    "                         density_change, traffic_change, traffic,\n",
    "                         time, tr_light, speed,\n",
    "                        prev_ac, prev_den,prev_signal, \n",
    "                           mean_de, std_de, activity_state_change, steady,\n",
    "                            steady_diff, act_diff, prev_speed,temperat\n",
    "                            ]\n",
    "\n",
    "\n",
    "        segments.append(feature_list)\n",
    "        \n",
    "\n",
    "        \n",
    "\n",
    "    # Bring the segments into a better shape\n",
    "    reshaped_segments = np.asarray(segments, dtype= np.float32).reshape(-1, time_steps, N_FEATURES)\n",
    "\n",
    "\n",
    "    return reshaped_segments\n",
    "    "
   ]
  },
  {
   "cell_type": "markdown",
   "metadata": {},
   "source": [
    "#### To use the function above, load the created model for prediction of the lag feature"
   ]
  },
  {
   "cell_type": "code",
   "execution_count": 11,
   "metadata": {},
   "outputs": [],
   "source": [
    "xgb_LAG = XGBRegressor()\n",
    "xgb_LAG.load_model(r'model_for_prediction_of_lag_feature.h5')"
   ]
  },
  {
   "cell_type": "markdown",
   "metadata": {},
   "source": [
    "### Use the model loaded above to predict the lag feature"
   ]
  },
  {
   "cell_type": "code",
   "execution_count": 12,
   "metadata": {},
   "outputs": [
    {
     "name": "stderr",
     "output_type": "stream",
     "text": [
      "c:\\users\\demdr\\python37\\lib\\site-packages\\ipykernel_launcher.py:25: FutureWarning: Slicing a positional slice with .loc is not supported, and will raise TypeError in a future version.  Use .loc with labels or .iloc with positions instead.\n"
     ]
    }
   ],
   "source": [
    "x_test_LAG = create_segments_and_labels_LAG(df_test,\n",
    "                                            240,\n",
    "                                            240\n",
    "                                            )\n",
    "num_time_periods, num_sensors = x_test_LAG.shape[1], x_test_LAG.shape[2]\n",
    "input_shape = (num_time_periods*num_sensors)\n",
    "\n",
    "# Reshape the array with the features, so that we can use it as input for the prediction model\n",
    "x_test_LAG = x_test_LAG.reshape(x_test_LAG.shape[0], input_shape)\n",
    "x_test_LAG = x_test_LAG.astype('float32')\n",
    "\n",
    "\n",
    "prediction_LAG = xgb_LAG.predict(x_test_LAG)\n",
    "# time window: 240 seconds\n",
    "TIME_PERIODS = 240\n",
    "STEP_DISTANCE= 240\n",
    "\n",
    "def create_EDA_LAG_from_predicted(df, time_steps, step):\n",
    "\n",
    "    cnt=0\n",
    "    for i in range(0, len(df) - time_steps, step):\n",
    "        predicted_EDA = prediction_LAG[cnt]\n",
    "        cnt+=1\n",
    "        if cnt<len(df_test):\n",
    "            df.loc[i: i+ time_steps, 'Past_Sum of amplitudes_log']=predicted_EDA\n",
    "# Predict the lag feature\n",
    "create_EDA_LAG_from_predicted(df_test, TIME_PERIODS, STEP_DISTANCE)\n",
    "\n",
    "\n"
   ]
  },
  {
   "cell_type": "markdown",
   "metadata": {},
   "source": [
    "### Definition for final prediction of the signal "
   ]
  },
  {
   "cell_type": "code",
   "execution_count": 13,
   "metadata": {},
   "outputs": [],
   "source": [
    "TIME_PERIODS = 240\n",
    "STEP_DISTANCE= 240\n",
    "\n",
    "def create_segments_and_labels_for_final_prediction(df, time_steps, step):\n",
    "\n",
    "\n",
    "    N_FEATURES = 20\n",
    "\n",
    "    segments = []\n",
    "    for i in range(0, len(df) - time_steps, step):\n",
    "        mean_de = df['Density'].values[i: i+ time_steps]\n",
    "        std_de = df['std_Density'].values[i: i+ time_steps]\n",
    "        activity_state_change = df['Change of activity state'].values[i: i + time_steps]\n",
    "        steady = df['Steady state'].values[i: i + time_steps]\n",
    "        steady_diff = np.insert(np.diff(df['Steady state'].values[i: i+ time_steps]), 0, 0)\n",
    "        \n",
    "\n",
    "        current_ac = df['activity'].values[i: i + time_steps]\n",
    "        act_diff = np.insert(np.diff(df['activity'].values[i: i + time_steps]), 0, 0)\n",
    "\n",
    "        activity_change = df['Significant Changes:Activity'].values[i: i + time_steps]\n",
    "        traffic_change = df['Significant Changes:Traffic'].values[i: i+ time_steps]\n",
    "        density_change = df['Significant Changes:Density'].values[i: i+ time_steps]\n",
    "        traffic = df['Traffic'].values[i: i+ time_steps]\n",
    "        time = np.power(df['Total seconds passed'].values[i: i+ time_steps], 1)\n",
    "        speed = df['Speed_mean_30sec'].values[i: i+ time_steps]\n",
    "        tr_light = df['Traffic signal'].values[i: i+ time_steps]\n",
    "\n",
    "        \n",
    "        temperat = df['Temperature_minmax'].values[i: i+ time_steps]\n",
    "        \n",
    "        # find time passed since the beginning of the activity\n",
    "        ses = df['Session'].values[i]\n",
    "        this_session = df[df['Session']==ses]\n",
    "        this_index = this_session.loc[df.index[i], 'Datetime_from_index']\n",
    "        index_0 = this_session.loc[this_session.index[0], 'Datetime_from_index']\n",
    "        time_passed = (this_index-index_0).total_seconds()\n",
    "        \n",
    "        # Create empty arrays that will be then filled with features for the previous time window\n",
    "        # previous activity\n",
    "        prev_ac = np.full(current_ac.shape, 0)\n",
    "        # previous density\n",
    "        prev_den = np.full(current_ac.shape, 0)\n",
    "        # previous signal\n",
    "        prev_signal = np.full(current_ac.shape, 0)\n",
    "        # previous speed\n",
    "        prev_speed = np.full(current_ac.shape, 0)\n",
    "        \n",
    "        \n",
    "        if i>TIME_PERIODS:\n",
    "            if time_passed>TIME_PERIODS:\n",
    "                prev_ac = df['activity'].values[i-TIME_PERIODS: i]\n",
    "                prev_speed = df['Speed_mean_30sec'].values[i-TIME_PERIODS: i]\n",
    "                prev_den = df['Density'].values[i-TIME_PERIODS: i]\n",
    "                prev_signal = df['Traffic signal'].values[i-TIME_PERIODS: i]\n",
    "                \n",
    "        else:\n",
    "            prev_ac = np.full(current_ac.shape, 0)\n",
    "            prev_den = np.full(current_ac.shape, 0)\n",
    "            prev_signal = np.full(current_ac.shape, 0)\n",
    "            \n",
    "            \n",
    "        # Add the lagged feature that was created with the prediction model above\n",
    "        prev_EDA=0\n",
    "        if i>180:\n",
    "            prev_EDA = np.full(current_ac.shape, df['Past_Sum of amplitudes_log'].values[i-60 : i].mean())\n",
    "        else:\n",
    "            prev_EDA = np.full(current_ac.shape, 0)\n",
    "\n",
    "\n",
    "        feature_list_small = [current_ac,activity_change,\n",
    "                         density_change, traffic_change, traffic,\n",
    "                         time, tr_light, speed,\n",
    "                        prev_ac, prev_den,prev_signal, \n",
    "                           mean_de, std_de, activity_state_change, steady,\n",
    "                            steady_diff, act_diff, prev_speed,temperat, prev_EDA\n",
    "                            ]\n",
    "\n",
    "\n",
    "        segments.append(feature_list_small)\n",
    "        \n",
    "\n",
    "    # Bring the segments into a better shape\n",
    "    reshaped_segments = np.asarray(segments, dtype= np.float32).reshape(-1, time_steps, N_FEATURES)\n",
    "  \n",
    "\n",
    "    return reshaped_segments\n",
    "  \n"
   ]
  },
  {
   "cell_type": "markdown",
   "metadata": {},
   "source": [
    "#### Load the created model for prediction of the final feature"
   ]
  },
  {
   "cell_type": "code",
   "execution_count": 14,
   "metadata": {},
   "outputs": [],
   "source": [
    "xgb_regressor = XGBRegressor()\n",
    "xgb_regressor.load_model(r'model_for_regression_of_log_Sum_of_EDR_amplitudes_240s.h5')"
   ]
  },
  {
   "cell_type": "markdown",
   "metadata": {},
   "source": [
    "### Use the xgboost model to create the final prediction"
   ]
  },
  {
   "cell_type": "code",
   "execution_count": 15,
   "metadata": {},
   "outputs": [],
   "source": [
    "# Create the array with the features that will be used as input\n",
    "final_x_test= create_segments_and_labels_for_final_prediction(df_test,\n",
    "                                            TIME_PERIODS,\n",
    "                                            STEP_DISTANCE\n",
    "                                            )\n",
    "# Reshape the array\n",
    "num_time_periods, num_sensors = final_x_test.shape[1], final_x_test.shape[2]\n",
    "input_shape = (num_time_periods*num_sensors)\n",
    "final_x_test = final_x_test.reshape(final_x_test.shape[0], input_shape)\n",
    "final_x_test = final_x_test.astype('float32')\n",
    "\n",
    "# Create the prediction\n",
    "predicted_log_of_signal = xgb_regressor.predict(final_x_test)\n"
   ]
  },
  {
   "cell_type": "markdown",
   "metadata": {},
   "source": [
    "### Reverse the log transform to find the actual signal"
   ]
  },
  {
   "cell_type": "code",
   "execution_count": 16,
   "metadata": {
    "scrolled": true
   },
   "outputs": [],
   "source": [
    "# Reference values for the original data used for training and testing the algorithm:\n",
    "\n",
    "# df_without_high_speed['Sum of EDR amplitudes'].copy()=8.16\n",
    "# The formula which was originally used for the EDA max, during the construction of the model, was the following:\n",
    "#this_EDA_max = np.log(df_without_high_speed['Sum of EDR amplitudes'].copy()+1).max()\n",
    "# Here we use directly the value derived from this computation, based on the original training and testing data \n",
    "this_EDA_max = 2.21\n",
    "# The extraction of the max of the log was based on \n",
    "# the following max value: df_without_high_speed['Sum of EDR amplitudes'].max()=8.16\n",
    "# If the same process is followed to train a new model, use the formula to find the 'this_EDA_max' value for this model\n",
    "# instead of the value used here (2.21)\n",
    "final_signal = np.exp(predicted_log_of_signal*this_EDA_max)-1"
   ]
  },
  {
   "cell_type": "markdown",
   "metadata": {},
   "source": [
    "### Put the values in the original 1-second resampling\n",
    "(In the array with the predictions, 1 value corresponds to 240s time window)"
   ]
  },
  {
   "cell_type": "code",
   "execution_count": 17,
   "metadata": {},
   "outputs": [],
   "source": [
    "def put_predicted_values_in_original_dataframe(this_df, time_steps, step):\n",
    "    this_df_copy = this_df.copy()\n",
    "    # This is for storing the values with the log transform\n",
    "    this_df_copy['Predicted_Sum of amplitudes_log']=0\n",
    "    # This is to store the values after reversing the log transform\n",
    "    this_df_copy['Predicted_Sum of amplitudes_after transform']=0\n",
    "    this_df_copy.index = np.arange(len(this_df_copy))\n",
    "    cnt=0\n",
    "    for i in range(0, len(this_df_copy) - time_steps, step):\n",
    "        # PUT HERE THE LOG TRANSFORMED\n",
    "        predicted_final_signal_with_log = predicted_log_of_signal[cnt]\n",
    "        predicted_final_signal_without_log = final_signal[cnt]\n",
    "        cnt+=1\n",
    "        if cnt<len(this_df_copy):\n",
    "            this_df_copy.loc[this_df_copy.index[i]: this_df_copy.index[i+ time_steps], 'Predicted_Sum of amplitudes_log']=predicted_final_signal_with_log\n",
    "            this_df_copy.loc[this_df_copy.index[i]: this_df_copy.index[i+ time_steps], 'Predicted_Sum of amplitudes_after transform']=predicted_final_signal_without_log\n",
    "    \n",
    "    return(this_df_copy)\n",
    "    \n",
    "test_df_copy = put_predicted_values_in_original_dataframe(df_test, TIME_PERIODS, STEP_DISTANCE)\n",
    "# The final column for storing the values with the log transform\n",
    "df_test['Predicted_Sum of amplitudes_log'] = test_df_copy['Predicted_Sum of amplitudes_log'].values.copy()\n",
    "# The final column for storing the values after reversing the log transform\n",
    "# THIS IS THE COLUMN CONTAINING THE END RESULT OF THIS ALGORITHM - THE PREDICTED DATA\n",
    "df_test['Predicted_Sum of amplitudes_after transform'] = test_df_copy['Predicted_Sum of amplitudes_after transform'].values.copy()\n"
   ]
  },
  {
   "cell_type": "markdown",
   "metadata": {},
   "source": [
    "## Extra: If we have available EDA data and we want to use the model for testing its accuracy\n",
    "This can only be used if we are testing the accuracy of the model and we have available EDA data which has been processed to extract the sum of EDR amplitude data.\n",
    "\n",
    "First, generate an array with the means of the actual values for each time window.\n",
    "\n",
    "The array will be then used for comparison with the predicted ones, if we have this data."
   ]
  },
  {
   "cell_type": "code",
   "execution_count": 19,
   "metadata": {},
   "outputs": [
    {
     "data": {
      "image/png": "[encoded data removed]",
      "text/plain": [
       "<Figure size 1440x216 with 1 Axes>"
      ]
     },
     "metadata": {},
     "output_type": "display_data"
    }
   ],
   "source": [
    "def get_original_values_for_comparison(this_df, time_steps, step):\n",
    "    this_df_copy = this_df.copy()\n",
    "    this_df_copy['Mean values without log']=0\n",
    "    this_df_copy.index = np.arange(len(this_df_copy))\n",
    "    cnt=0\n",
    "    actual_values = []\n",
    "    for i in range(0, len(this_df_copy) - time_steps, step):\n",
    "        label_c = this_df_copy['Sum of EDR amplitudes'].values[i: i+ time_steps].mean()\n",
    "        actual_values.append(label_c)\n",
    "        cnt+=1\n",
    "    return(actual_values)\n",
    "original_values_without_log = get_original_values_for_comparison(df_test, TIME_PERIODS, STEP_DISTANCE)\n",
    "\n",
    "\n",
    "\n",
    "\n",
    "\n",
    "# After using the helper function, we generate a df ('for_plot') that we will use to plot the predicted signal (after the transformation) and the actual values for comparison\n",
    "\n",
    "# Option 1: Use this is to compare the actual and predicted values for the ORIGINAL df, with 1-second resampling(where each value corresponds to 1 second)\n",
    "'''\n",
    "for_plot= pd.DataFrame()\n",
    "#for_plot['Actual']=df_test['Sum of EDR amplitudes_log']\n",
    "#for_plot['Predicted_XGBoost_with lag']=df_test['Predicted_Sum of amplitudes_log']\n",
    "for_plot['Actual']=df_test['Sum of EDR amplitudes']\n",
    "for_plot['Predicted_XGBoost_with lag']=df_test['Predicted_Sum of amplitudes_after transform']\n",
    "for_plot.index = np.arange(len(for_plot))\n",
    "for_plot\n",
    "'''\n",
    "\n",
    "# Option 2: Use this is to compare the actual and predicted values for the RESAMPLED df (where 1 time window corresponds to 240 seconds and is connected with 1 predicted value)\n",
    "for_plot= pd.DataFrame()\n",
    "for_plot['Actual']=original_values_without_log\n",
    "for_plot['Predicted']=final_signal\n",
    "for_plot\n",
    "\n",
    "# Finally, plot the predicted data against the actual values \n",
    "# Use a different step if needed, according to the quantity of the data \n",
    "# (step=10000) was used to compare predicted and actual values for a df_test with 116102 rows\n",
    "step = 10000\n",
    "sns.set_context('notebook',font_scale=1.5)\n",
    "plt.style.use('seaborn-whitegrid')\n",
    "palette = sns.color_palette(\"mako\", len(for_plot.columns))\n",
    "\n",
    "for i in range(0,len(for_plot), step):\n",
    "    plt.figure(figsize=(20,3))\n",
    "    sns.lineplot(data=for_plot[i:i+step],palette=palette, style='choice', linewidth=2)\n",
    "    plt.legend(bbox_to_anchor=(1.05, 1), loc=2, borderaxespad=0.)\n",
    "    plt.title('Actual and predicted data')"
   ]
  },
  {
   "cell_type": "code",
   "execution_count": null,
   "metadata": {},
   "outputs": [],
   "source": []
  }
 ],
 "metadata": {
  "kernelspec": {
   "display_name": "Python 3",
   "language": "python",
   "name": "python3"
  },
  "language_info": {
   "codemirror_mode": {
    "name": "ipython",
    "version": 3
   },
   "file_extension": ".py",
   "mimetype": "text/x-python",
   "name": "python",
   "nbconvert_exporter": "python",
   "pygments_lexer": "ipython3",
   "version": "3.7.9"
  }
 },
 "nbformat": 4,
 "nbformat_minor": 4
}
